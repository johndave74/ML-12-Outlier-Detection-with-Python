{
 "cells": [
  {
   "cell_type": "markdown",
   "id": "d3df0423",
   "metadata": {},
   "source": [
    "# **Outlier Detection**"
   ]
  },
  {
   "cell_type": "markdown",
   "id": "82a09c80",
   "metadata": {},
   "source": [
    "### **What is an Outlier?**\n",
    "\n",
    "An outlier is an observation that is numerically distant from the rest of the data or, in a nutshell, is the value that is out of range. Let’s take an example to check what happens to a dataset with a dataset without outliers."
   ]
  },
  {
   "cell_type": "markdown",
   "id": "f7c88ba5",
   "metadata": {},
   "source": [
    "| **Metric**            | **Data without Outliers** | **Data with Outliers** |\n",
    "|------------------------|---------------------------|-------------------------|\n",
    "| **Data**              | 1, 2, 3, 3, 4, 5, 4      | 1, 2, 3, 3, 4, 5, 400  |\n",
    "| **Mean**              | 3.142                     | 59.714                 |\n",
    "| **Median**            | 3                         | 3                      |\n",
    "| **Standard Deviation**| 1.345185                  | 150.057                |"
   ]
  },
  {
   "cell_type": "markdown",
   "id": "3c7fca68",
   "metadata": {},
   "source": [
    "As you can see, the dataset with outliers has a significantly different mean and standard deviation. In the first scenario, we will say that the average is 3.14. But with the outlier, the average climbs to 59.71. This would completely change the estimate."
   ]
  },
  {
   "cell_type": "markdown",
   "id": "d0541e9b",
   "metadata": {},
   "source": [
    "### **Causes of Outliers**\n",
    "\n",
    "Data Entry Errors: Human errors such as errors caused during data collection, recording, or entry can cause outliers in data.\n",
    "Measurement Errors: It is the most common source of outliers. This is caused when the measurement instrument used turns out to be faulty.\n",
    "Natural Outliers: When an outlier is not artificial (due to error), it is a natural outlier. Most real-world data belong to this category."
   ]
  },
  {
   "cell_type": "markdown",
   "id": "7f5bca79",
   "metadata": {},
   "source": [
    "### **Outlier Detection in Machine Learning using Hypothesis Testing**\n",
    "\n",
    "Now, I will use the Python programming language for the task of outlier detection in machine learning.\n",
    "\n",
    "An outlier can be of two types: \n",
    "- Univariate and \n",
    "- Multivariate"
   ]
  },
  {
   "cell_type": "markdown",
   "id": "014a18b8",
   "metadata": {},
   "source": [
    "**Hypothesis testing** is a common technique for detecting outliers in machine learning. Hypothesis testing is a method of testing a claim or hypothesis about a parameter in a population, using data measured in a sample.\n",
    "\n",
    "The purpose of the hypothesis test is to determine the probability that a population parameter, such as the mean, is likely to be true. There are four steps in the hypothesis test:\n",
    "\n",
    "- State the assumptions.\n",
    "- Define the criteria for a decision.\n",
    "- Calculate the test statistic.\n",
    "- Make a decision."
   ]
  },
  {
   "cell_type": "markdown",
   "id": "4819ed5a",
   "metadata": {},
   "source": [
    "Now let’s see how to use the Python programming language to implement the hypothesis testing for the task of Outlier Detection in Machine Learning:"
   ]
  },
  {
   "cell_type": "code",
   "execution_count": 1,
   "metadata": {},
   "outputs": [],
   "source": [
    "import numpy as np\n",
    "import scipy.stats as stats"
   ]
  },
  {
   "cell_type": "code",
   "execution_count": 2,
   "metadata": {},
   "outputs": [],
   "source": [
    "x = np.array([12,13,14,19,21,23])\n",
    "y = np.array([12,13,14,19,21,23,45])"
   ]
  },
  {
   "cell_type": "code",
   "execution_count": 3,
   "id": "f9c309e5",
   "metadata": {},
   "outputs": [],
   "source": [
    "def grubbs_test(x):\n",
    "    n = len(x)\n",
    "    mean_x = np.mean(x)\n",
    "    sd_x = np.std(x)\n",
    "    numerator = max(abs(x-mean_x))\n",
    "    g_calculated = numerator/sd_x\n",
    "    \n",
    "    print(\"Grubbs Calculated Value:\",g_calculated)\n",
    "    t_value = stats.t.ppf(1 - 0.05 / (2 * n), n - 2)\n",
    "    g_critical = ((n - 1) * np.sqrt(np.square(t_value))) / (np.sqrt(n) * np.sqrt(n - 2 + np.square(t_value)))\n",
    "    print(\"Grubbs Critical Value:\",g_critical)\n",
    "    \n",
    "    if g_critical > g_calculated:\n",
    "        print(\"From grubbs_test we observe that calculated value is lesser than critical value, Accept null hypothesis and conclude that there is no outliers\\n\")\n",
    "    else:\n",
    "        print(\"From grubbs_test we observe that calculated value is greater than critical value, Reject null hypothesis and conclude that there is an outliers\\n\")"
   ]
  },
  {
   "cell_type": "code",
   "execution_count": 4,
   "metadata": {},
   "outputs": [
    {
     "name": "stdout",
     "output_type": "stream",
     "text": [
      "Grubbs Calculated Value: 1.4274928542926593\n",
      "Grubbs Critical Value: 1.8871451177787137\n",
      "From grubbs_test we observe that calculated value is lesser than critical value, Accept null hypothesis and conclude that there is no outliers\n",
      "\n",
      "Grubbs Calculated Value: 2.2765147221587774\n",
      "Grubbs Critical Value: 2.019968507680656\n",
      "From grubbs_test we observe that calculated value is greater than critical value, Reject null hypothesis and conclude that there is an outliers\n",
      "\n"
     ]
    }
   ],
   "source": [
    "grubbs_test(x)\n",
    "grubbs_test(y)"
   ]
  },
  {
   "cell_type": "code",
   "execution_count": null,
   "id": "574e3261",
   "metadata": {},
   "outputs": [],
   "source": []
  }
 ],
 "metadata": {
  "kernelspec": {
   "display_name": "Python 3",
   "language": "python",
   "name": "python3"
  },
  "language_info": {
   "codemirror_mode": {
    "name": "ipython",
    "version": 3
   },
   "file_extension": ".py",
   "mimetype": "text/x-python",
   "name": "python",
   "nbconvert_exporter": "python",
   "pygments_lexer": "ipython3",
   "version": "3.13.3"
  }
 },
 "nbformat": 4,
 "nbformat_minor": 5
}
